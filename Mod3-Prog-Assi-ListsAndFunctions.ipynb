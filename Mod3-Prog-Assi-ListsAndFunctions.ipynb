{
 "cells": [
  {
   "cell_type": "code",
   "execution_count": 35,
   "id": "070042cd-ae6e-4cc6-873d-05b9d0864cb1",
   "metadata": {},
   "outputs": [
    {
     "data": {
      "text/plain": [
       "['mozzarella', 'cinderella', 'salmonella']"
      ]
     },
     "execution_count": 35,
     "metadata": {},
     "output_type": "execute_result"
    }
   ],
   "source": [
    "#7.4 Make a list called things with these three strings as elements: \"mozzarella\", \"cinderella\", \"salmonella\".\n",
    "things = ['mozzarella', 'cinderella', 'salmonella']\n",
    "things"
   ]
  },
  {
   "cell_type": "code",
   "execution_count": 39,
   "id": "8e74833c-366d-431d-93b5-72c57ab33a19",
   "metadata": {},
   "outputs": [
    {
     "data": {
      "text/plain": [
       "['mozzarella', 'cinderella', 'salmonella']"
      ]
     },
     "execution_count": 39,
     "metadata": {},
     "output_type": "execute_result"
    }
   ],
   "source": [
    "#7.5 Capitalize the element in things that refers to a person and then print the list. \n",
    "#Did it change the element in the list?\n",
    "things[1].capitalize()\n",
    "things\n",
    "#No it didn't change the element in the list, to change the element, \n",
    "#we have to assign the result to the element, please see the next cell"
   ]
  },
  {
   "cell_type": "code",
   "execution_count": 41,
   "id": "5d00c994-2dda-4d8f-a121-9e8c47b15515",
   "metadata": {},
   "outputs": [
    {
     "data": {
      "text/plain": [
       "['mozzarella', 'Cinderella', 'salmonella']"
      ]
     },
     "execution_count": 41,
     "metadata": {},
     "output_type": "execute_result"
    }
   ],
   "source": [
    "#7.5 (continuation)\n",
    "things[1] = things[1].capitalize()\n",
    "things"
   ]
  },
  {
   "cell_type": "code",
   "execution_count": 49,
   "id": "1df5ce12-3c2b-47ea-a911-318ebd73727e",
   "metadata": {},
   "outputs": [
    {
     "data": {
      "text/plain": [
       "['MOZZARELLA', 'Cinderella', 'salmonella']"
      ]
     },
     "execution_count": 49,
     "metadata": {},
     "output_type": "execute_result"
    }
   ],
   "source": [
    "#7.6 Make the cheesy element of things all uppercase and then print the list.\n",
    "things[0] = things[0].upper()\n",
    "things"
   ]
  },
  {
   "cell_type": "code",
   "execution_count": 51,
   "id": "56b027b1-6582-4eb7-a7a1-24850d81d96b",
   "metadata": {},
   "outputs": [
    {
     "data": {
      "text/plain": [
       "['MOZZARELLA', 'Cinderella']"
      ]
     },
     "execution_count": 51,
     "metadata": {},
     "output_type": "execute_result"
    }
   ],
   "source": [
    "#7.7 Delete the disease element from things, collect your Nobel Prize, and print the list.\n",
    "del things[2]\n",
    "things"
   ]
  },
  {
   "cell_type": "code",
   "execution_count": 1,
   "id": "43f2faa8-88f5-4ed7-b974-8d72d2c7c662",
   "metadata": {},
   "outputs": [
    {
     "data": {
      "text/plain": [
       "['Harry', 'Ron', 'Hermione']"
      ]
     },
     "execution_count": 1,
     "metadata": {},
     "output_type": "execute_result"
    }
   ],
   "source": [
    "#9.1 Define a function called good() that returns the following list: ['Harry', 'Ron', 'Hermione'].\n",
    "def good():\n",
    "    return ['Harry', 'Ron', 'Hermione']\n",
    "good()"
   ]
  },
  {
   "cell_type": "code",
   "execution_count": 3,
   "id": "402f853a-0689-43bf-bc49-108e862d19ac",
   "metadata": {},
   "outputs": [
    {
     "name": "stdout",
     "output_type": "stream",
     "text": [
      "5\n"
     ]
    }
   ],
   "source": [
    "#9.2 Define a generator function called get_odds() that returns the odd numbers from range(10). \n",
    "#Use a for loop to find and print the third value returned.\n",
    "def get_odds(result=None):\n",
    "    if result is None:\n",
    "        result = []\n",
    "    for x in range(10):\n",
    "        if x % 2 != 0:            \n",
    "            result.append(x)\n",
    "    return(result)\n",
    "get_odds()\n",
    "counter = 0\n",
    "for item in get_odds():\n",
    "    if counter == 2:\n",
    "        print(item)\n",
    "        break\n",
    "    counter = counter + 1"
   ]
  },
  {
   "cell_type": "code",
   "execution_count": null,
   "id": "1c0345e2-fc98-4dc8-b424-9effcfae203a",
   "metadata": {},
   "outputs": [],
   "source": []
  }
 ],
 "metadata": {
  "kernelspec": {
   "display_name": "Python 3 (ipykernel)",
   "language": "python",
   "name": "python3"
  },
  "language_info": {
   "codemirror_mode": {
    "name": "ipython",
    "version": 3
   },
   "file_extension": ".py",
   "mimetype": "text/x-python",
   "name": "python",
   "nbconvert_exporter": "python",
   "pygments_lexer": "ipython3",
   "version": "3.12.7"
  }
 },
 "nbformat": 4,
 "nbformat_minor": 5
}
