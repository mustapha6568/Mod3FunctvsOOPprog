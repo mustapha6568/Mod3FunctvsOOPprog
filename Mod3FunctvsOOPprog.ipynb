{
 "cells": [
  {
   "cell_type": "code",
   "execution_count": 3,
   "id": "4353258c-bdec-4b5b-939b-acdf604bbd4c",
   "metadata": {},
   "outputs": [
    {
     "data": {
      "text/plain": [
       "[0, 0, 0, 1, 2, 2]"
      ]
     },
     "execution_count": 3,
     "metadata": {},
     "output_type": "execute_result"
    }
   ],
   "source": [
    "#   Sort 0s, 1s and 2s\n",
    "\n",
    "class Solution:\n",
    "    # Function to sort an array of 0s, 1s, and 2s\n",
    "    def sort012(arr):\n",
    "        # code here\n",
    "        validSize = True\n",
    "        validElements = True\n",
    "        \n",
    "        size = len(arr)\n",
    "        if size <= size and size <= 1_000_000:\n",
    "            pass\n",
    "        else:\n",
    "            validSize = False\n",
    "        \n",
    "        if validSize:\n",
    "            for x in arr:\n",
    "                if x == 0 or x == 1 or x == 2:\n",
    "                    pass\n",
    "                else:\n",
    "                    validElements = False\n",
    "                    break\n",
    "        \n",
    "        if validSize and validElements:\n",
    "            arr.sort()\n",
    "            return arr\n",
    "        else:\n",
    "            print(\" cannot process invalid array\")\n",
    "        \n",
    "\n",
    "Solution.sort012([0,1,2,0,0,2])"
   ]
  },
  {
   "cell_type": "code",
   "execution_count": 13,
   "id": "e53c7408-2112-4072-9f44-ca6ec7cd41bd",
   "metadata": {},
   "outputs": [
    {
     "name": "stdout",
     "output_type": "stream",
     "text": [
      "Element is present at index  6\n"
     ]
    }
   ],
   "source": [
    "class Solution:\n",
    "    def actualBinarySearch(arr, l, r, x):\n",
    "    \n",
    "        # Check base case\n",
    "        if r >= l:\n",
    "    \n",
    "            mid = l + (r - l) // 2\n",
    "    \n",
    "            # If element is present at the middle itself\n",
    "            if arr[mid] == x:\n",
    "                return mid\n",
    "    \n",
    "            # If element is smaller than mid, then it\n",
    "            # can only be present in left subarray\n",
    "            elif arr[mid] > x:\n",
    "                return actualBinarySearch(arr, l, mid-1, x)\n",
    "    \n",
    "            # Else the element can only be present\n",
    "            # in right subarray\n",
    "            else:\n",
    "                return actualBinarySearch(arr, mid + 1, r, x)\n",
    "        else:\n",
    "            # Element is not present in the array\n",
    "            return -1\n",
    "\n",
    "    def binarysearch(arr, k):\n",
    "        # Code Here\n",
    "        validSize = True\n",
    "        validElements = True\n",
    "        validKey = True\n",
    "\n",
    "        #check if array size is valid\n",
    "        size = len(arr)\n",
    "        if 1 <= size and size <= 100_000:\n",
    "            #print(\"valid size\", size)\n",
    "            pass\n",
    "        else:\n",
    "            validSize = False\n",
    "            #print(\"valid Size?\", validSize)\n",
    "\n",
    "        #check if search Key is valid\n",
    "        if 1 <= k and k <= 1_000_000:\n",
    "            #print(\"valid key \", k)\n",
    "            pass\n",
    "        else:\n",
    "            validKey = False\n",
    "\n",
    "        if validSize and validKey:\n",
    "            for x in arr:\n",
    "                if 1 <= x and x <= 1_000_000:\n",
    "                    #print(\"element \", x)\n",
    "                    pass\n",
    "                else:\n",
    "                    validElements = False\n",
    "                    break\n",
    "        #print(\"valid elements?\", validElements)\n",
    "        if validSize and validElements and validKey:\n",
    "            l = 0\n",
    "            r = len(arr) - 1\n",
    "            result = actualBinarySearch(arr, l, r, k)\n",
    "            return result\n",
    "        else:\n",
    "            if not validSize:\n",
    "                print(\"The size is not between 1 and 10**5\")\n",
    "            elif not validKey:\n",
    "                print(\"The key is not between 1 and 10**6\")\n",
    "            else:\n",
    "                print(\"At least on element in the array is not between 1 and 10**6\")\n",
    "\n",
    "arr = [10, 20, 30, 50, 60, 80, 110, 130, 140, 170]\n",
    "x = 110\n",
    "result = Solution.binarysearch(arr,x)\n",
    "\n",
    "if result != -1:\n",
    "     print(\"Element is present at index \", result)\n",
    "else:\n",
    "    print(\"Element is not present in array\")"
   ]
  },
  {
   "cell_type": "code",
   "execution_count": null,
   "id": "f6b8d485-7293-497d-ade4-a4b1cf3f9301",
   "metadata": {},
   "outputs": [],
   "source": []
  },
  {
   "cell_type": "code",
   "execution_count": null,
   "id": "ab01f61e-20aa-4c61-b782-319084ae5b9b",
   "metadata": {},
   "outputs": [],
   "source": []
  }
 ],
 "metadata": {
  "kernelspec": {
   "display_name": "Python 3 (ipykernel)",
   "language": "python",
   "name": "python3"
  },
  "language_info": {
   "codemirror_mode": {
    "name": "ipython",
    "version": 3
   },
   "file_extension": ".py",
   "mimetype": "text/x-python",
   "name": "python",
   "nbconvert_exporter": "python",
   "pygments_lexer": "ipython3",
   "version": "3.12.7"
  }
 },
 "nbformat": 4,
 "nbformat_minor": 5
}
